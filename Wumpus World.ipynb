{
 "cells": [
  {
   "cell_type": "code",
   "execution_count": 168,
   "metadata": {},
   "outputs": [],
   "source": [
    "''' Include any import statements here: '''\n",
    "\n",
    "import random\n"
   ]
  },
  {
   "cell_type": "code",
   "execution_count": 169,
   "metadata": {},
   "outputs": [],
   "source": [
    "'''Making a 4x4 coordinate grid to define the Wumpus World'''\n",
    "\n",
    "possible_coordinates = [\n",
    "    (0,0) ,\n",
    "    (0,1) ,\n",
    "    (0,2) ,\n",
    "    (0,3) ,\n",
    "    (1,0) ,\n",
    "    (1,1) ,\n",
    "    (1,2) ,\n",
    "    (1,3) ,\n",
    "    (2,0) ,\n",
    "    (2,1) ,\n",
    "    (2,2) ,\n",
    "    (2,3) ,\n",
    "    (3,0) ,\n",
    "    (3,1) ,\n",
    "    (3,2) ,\n",
    "    (3,3) \n",
    "]"
   ]
  },
  {
   "cell_type": "code",
   "execution_count": 170,
   "metadata": {},
   "outputs": [],
   "source": [
    "'''Subtract 1000 from this everytime the agent falls into a pit'''\n",
    "\n",
    "cash_available = 5000 "
   ]
  },
  {
   "cell_type": "markdown",
   "metadata": {},
   "source": [
    "### KEY:\n",
    "* Represent a PIT with P\n",
    "* Represent the GOLD with G\n",
    "* Represent all other blocks with . (default)"
   ]
  },
  {
   "cell_type": "code",
   "execution_count": 171,
   "metadata": {},
   "outputs": [],
   "source": [
    "'''Initializing all blocks of the Wumpus World with the default value (.)'''\n",
    "\n",
    "coordinate_labels = dict.fromkeys(possible_coordinates , '.')\n",
    "# print(coordinate_labels)"
   ]
  },
  {
   "cell_type": "code",
   "execution_count": 172,
   "metadata": {},
   "outputs": [
    {
     "name": "stdout",
     "output_type": "stream",
     "text": [
      "[9, 1, 4, 13, 12]\n"
     ]
    }
   ],
   "source": [
    "'''Randomly generating the GOLD, PITS and STARTING POSITION'''\n",
    "\n",
    "'''Selecting random coordinates'''\n",
    "random_coordinates = random.sample(range(0, 15), 5)\n",
    "print(random_coordinates)\n",
    "\n",
    "starting_coordinates = possible_coordinates[random_coordinates[0]]\n",
    "\n",
    "coordinates_of_first_pit = possible_coordinates[random_coordinates[1]]\n",
    "coordinates_of_second_pit = possible_coordinates[random_coordinates[2]]\n",
    "coordinates_of_third_pit = possible_coordinates[random_coordinates[3]]\n",
    "\n",
    "coordinates_of_gold = possible_coordinates[random_coordinates[4]]\n",
    "\n",
    "'''Setting the Wumpus World'''\n",
    "coordinate_labels[starting_coordinates] = 'S'\n",
    "\n",
    "coordinate_labels[coordinates_of_gold] = 'G'\n",
    "coordinate_labels[coordinates_of_first_pit] = 'P'\n",
    "coordinate_labels[coordinates_of_second_pit] = 'P'\n",
    "coordinate_labels[coordinates_of_third_pit] = 'P'"
   ]
  },
  {
   "cell_type": "code",
   "execution_count": 173,
   "metadata": {},
   "outputs": [],
   "source": [
    "'''Call this function whenever you want to see the state of the World'''\n",
    "\n",
    "def printGrid(): \n",
    "    current_count = 0 \n",
    "    for coordinate in coordinate_labels.keys():\n",
    "        if current_count == 3:\n",
    "            print(coordinate_labels[coordinate])\n",
    "            current_count = 0\n",
    "            continue\n",
    "        \n",
    "        print(coordinate_labels[coordinate] , end = \"     \")\n",
    "        current_count = current_count + 1"
   ]
  },
  {
   "cell_type": "code",
   "execution_count": 174,
   "metadata": {},
   "outputs": [
    {
     "name": "stdout",
     "output_type": "stream",
     "text": [
      "_________________________________\n",
      "Initial State of the Wumpus World:\n",
      "_________________________________\n",
      "\n",
      ".     P     .     .\n",
      "P     .     .     .\n",
      ".     S     .     .\n",
      "G     P     .     .\n"
     ]
    }
   ],
   "source": [
    "print(\"_________________________________\")\n",
    "print(\"Initial State of the Wumpus World:\")\n",
    "print(\"_________________________________\\n\")\n",
    "printGrid()"
   ]
  },
  {
   "cell_type": "markdown",
   "metadata": {},
   "source": [
    "### Your Tasks:"
   ]
  },
  {
   "cell_type": "markdown",
   "metadata": {},
   "source": [
    "# Helper Functions:"
   ]
  },
  {
   "cell_type": "code",
   "execution_count": 175,
   "metadata": {},
   "outputs": [],
   "source": [
    "def MoveLeft(agent_position): # this function moves the agent to the left if it is not on the left-most position\n",
    "    x = agent_position[0]\n",
    "    y = agent_position[1]\n",
    "    if x == 0:\n",
    "        return (x,y)\n",
    "    else:\n",
    "        return (x-1,y)\n",
    "def MoveRight(agent_position): # this function moves the agent to the right if it is not on the right-most position\n",
    "    x = agent_position[0]\n",
    "    y = agent_position[1]\n",
    "    if x == 3:\n",
    "        return (x,y)\n",
    "    else:\n",
    "        return (x+1,y)\n",
    "def MoveUp(agent_position): # this function moves the agent to the top if it is not on the top-most position\n",
    "    x = agent_position[0] \n",
    "    y = agent_position[1]\n",
    "    if y == 3:\n",
    "        return (x,y)\n",
    "    else:\n",
    "        return (x,y+1)\n",
    "def MoveDown(agent_position): # this function moves the agent to the bottom if it is not on the bottom-most position\n",
    "    x = agent_position[0] \n",
    "    y = agent_position[1]\n",
    "    if y == 0:\n",
    "        return (x,y)\n",
    "    else:\n",
    "        return (x,y-1)"
   ]
  },
  {
   "cell_type": "markdown",
   "metadata": {},
   "source": [
    "### 1) Simple Reflex Agent (50 Marks)"
   ]
  },
  {
   "cell_type": "code",
   "execution_count": 176,
   "metadata": {},
   "outputs": [],
   "source": [
    "def simpleReflexAgent(wumpus_world): \n",
    "    print(\"_________________________________\")\n",
    "    print(\"Initial State of the Wumpus World:\")\n",
    "    print(\"_________________________________\\n\")\n",
    "    printGrid()\n",
    "    \n",
    "    '''    \n",
    "    - wumpus_world is the initial state of the world here. \n",
    "    \n",
    "    - Pass 'coordinate_labels' as the argument here when calling the function!\n",
    "    \n",
    "    - Since wumpus_world is randomly generated, there may be instances where the world generated\n",
    "      cannot be solved at all, and this simple reflex agent will get stuck in a loop (in which it keeps\n",
    "      going to any valid cell over and over again) since it doesn't keep a track/model of the world. \n",
    "      To detect this loop, give your function a maximum running time of 45 seconds. To return from the function \n",
    "      after a certain amount of time, you can use time(), which tells you the current time in seconds.  \n",
    "    \n",
    "    - Return the string \"Gold Found!\" if the problem has a solution.\n",
    "    \n",
    "    - If the world doesn't have a solution, return \"unsolvable\"\n",
    "    \n",
    "    - You are free to make any helper functions you like in a new cell. If you do so, you must clearly \n",
    "      explain what those functions are doing.\n",
    "      \n",
    "    - Your agent should be able to work correctly for ALL randomly generated worlds (and to receive full \n",
    "      credit, it must pass all of the test cases that we will use to evaluate your assignment).\n",
    "      \n",
    "    ____________________________________________________________________________________________________________\n",
    "    NOTEE: You CANNOT alter the state of the world in this function, as this is a simple reflex agent.\n",
    "    This means that the state of the Wumpus World should be the same at before and after this function is called!\n",
    "    \n",
    "    You also can't create a temporary state! \n",
    "    Remember: This is supposed to be a REFLEX agent! Even if you pass our test cases, we will check the logic \n",
    "    of your code to make sure that you have indeed implemented a reflex agent as it should be!\n",
    "    \n",
    "    You cannot maintain a percept history either (however, you can keep track of JUST your LAST move, incase \n",
    "    you have to come back to it later). For example, if the agent was at (2,3) and moved to (3,3) and found out \n",
    "    that this is a pit, you can keep (2,3) stored as the previous state to return back to it.\n",
    "    ____________________________________________________________________________________________________________\n",
    "      \n",
    "    '''\n",
    "    \n",
    "    import time\n",
    "    start_time = time.time() \n",
    "    '''\n",
    "    To find the time elapsed since the start of the function later, you can do:\n",
    "    time_remaining = time.time() - start_time\n",
    "    and check if time_remaining has exceeded 45 seconds or not\n",
    "    '''\n",
    "        \n",
    "    agent_position = starting_coordinates\n",
    "    time_elapsed = 0\n",
    "\n",
    "    while(time_elapsed < 45):\n",
    "        \n",
    "        previous_position = agent_position\n",
    "        \n",
    "        decision = random.randint(1,4)\n",
    "        \n",
    "        if decision == 1: \n",
    "            agent_position = MoveLeft(agent_position)\n",
    "        \n",
    "        elif decision == 2:\n",
    "            agent_position = MoveRight(agent_position)\n",
    "            \n",
    "        elif decision == 3: \n",
    "            agent_position = MoveUp(agent_position)\n",
    "        \n",
    "        elif decision == 4:\n",
    "            agent_position = MoveDown(agent_position)\n",
    "            \n",
    "        if agent_position in coordinate_labels: \n",
    "            if coordinate_labels[agent_position] == 'P':\n",
    "                agent_position = previous_position\n",
    "\n",
    "            elif coordinate_labels[agent_position] == 'G':\n",
    "                return \"Gold Found!\"\n",
    "        \n",
    "        time_elapsed = time.time() - start_time \n",
    "        \n",
    "    return \"unsolvable\"\n",
    "         "
   ]
  },
  {
   "cell_type": "markdown",
   "metadata": {},
   "source": [
    "### 2) Model Based Agent (50 Marks)"
   ]
  },
  {
   "cell_type": "markdown",
   "metadata": {},
   "source": [
    "##### Key for constructing the Model as the Agent proceeds:\n",
    "* When a pit is discovered, represent it with P\n",
    "* When the gold is discovered, represent it with G\n",
    "* Represent the cell/room in which the agent currently is with *\n",
    "* Represent all previously visited cells/rooms with _ (instead of the default . ) \n",
    "* Represent all unvisited cells/rooms with . (default)"
   ]
  },
  {
   "cell_type": "code",
   "execution_count": 177,
   "metadata": {},
   "outputs": [],
   "source": [
    "def modelBasedAgent(wumpus_world , budget): \n",
    "    print(\"_________________________________\")\n",
    "    print(\"Initial State of the Wumpus World:\")\n",
    "    print(\"_________________________________\\n\")\n",
    "    printGrid()\n",
    "    '''    \n",
    "    - wumpus_world is the initial state of the world here. \n",
    "    \n",
    "    - Pass 'coordinate_labels' as the argument here when calling the function!\n",
    "    \n",
    "    - budget is the initial amount of money that the agent has ($5000).\n",
    "    \n",
    "    - Pass 'cash_available' as the argument here when calling the function!\n",
    "    \n",
    "    - Since wumpus_world is randomly generated, there may be instances where the world generated\n",
    "      cannot be solved at all. To deal with this, the agent needs to refer to the model it builds for itself.\n",
    "      Once it has visited all the cells/rooms (apart from the cell with the gold), make the agent wait 45 seconds\n",
    "      (incase it is still trying to find a way to the gold) before forcing it to stop and conclude that the world is\n",
    "      unsolvable.\n",
    "      \n",
    "    - Return the model the agent has constructed for itself, and the string “Gold Found! x dollars left in the bank too!” \n",
    "      where x is the amount of money the agent has left\n",
    "      \n",
    "    - If the world is unsolvable, then the agent should return the final state of the model it has generated for itself, \n",
    "      along with the string “unsolvable”\n",
    "    '''\n",
    "        \n",
    "    import time\n",
    "    start_time = time.time() \n",
    "    time_elapsed = 0\n",
    "    \n",
    "    agent_position = starting_coordinates\n",
    "    model = dict.fromkeys(possible_coordinates , '.')\n",
    "    \n",
    "    while(budget >= 2000 and time_elapsed < 45):\n",
    "        \n",
    "        previous_position = agent_position\n",
    "        model[agent_position] = '_'\n",
    "        \n",
    "        decision = random.randint(1,4)\n",
    "        \n",
    "        if decision == 1: \n",
    "            agent_position = MoveLeft(agent_position)\n",
    "        \n",
    "        elif decision == 2:\n",
    "            agent_position = MoveRight(agent_position)\n",
    "            \n",
    "        elif decision == 3: \n",
    "            agent_position = MoveUp(agent_position)\n",
    "        \n",
    "        elif decision == 4:\n",
    "            agent_position = MoveDown(agent_position)\n",
    "            \n",
    "        if model[agent_position] == 'P':\n",
    "                agent_position = previous_position\n",
    "            \n",
    "        elif agent_position in coordinate_labels: \n",
    "            if coordinate_labels[agent_position] == 'P':\n",
    "                model[agent_position] = 'P'\n",
    "                agent_position = previous_position\n",
    "                budget -= 1000\n",
    "\n",
    "            elif coordinate_labels[agent_position] == 'G':\n",
    "                model[agent_position] = 'G'\n",
    "                return model, \"Gold Found! {} dollars left in the bank too!\".format(budget)\n",
    "            \n",
    "        model[agent_position] = '*'\n",
    "            \n",
    "        time_elapsed = time.time() - start_time\n",
    "        \n",
    "    return model,\"unsolvable\"\n",
    "    "
   ]
  }
 ],
 "metadata": {
  "interpreter": {
   "hash": "148134ac2fdea73b16027f8b2b690042278664e489f0127c7df42c43f0f2c5b9"
  },
  "kernelspec": {
   "display_name": "Python 3",
   "language": "python",
   "name": "python3"
  },
  "language_info": {
   "codemirror_mode": {
    "name": "ipython",
    "version": 3
   },
   "file_extension": ".py",
   "mimetype": "text/x-python",
   "name": "python",
   "nbconvert_exporter": "python",
   "pygments_lexer": "ipython3",
   "version": "3.8.8"
  }
 },
 "nbformat": 4,
 "nbformat_minor": 2
}
